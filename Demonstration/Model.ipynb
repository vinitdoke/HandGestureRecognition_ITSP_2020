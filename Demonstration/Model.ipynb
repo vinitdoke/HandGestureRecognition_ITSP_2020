{
 "cells": [
  {
   "cell_type": "code",
   "execution_count": null,
   "metadata": {},
   "outputs": [],
   "source": [
    "from pyautogui import *\n",
    "import cv2\n",
    "import numpy as np \n",
    "from tensorflow import keras"
   ]
  },
  {
   "cell_type": "code",
   "execution_count": null,
   "metadata": {},
   "outputs": [],
   "source": [
    "model = keras.models.load_model(\"withdropout.h5\")"
   ]
  },
  {
   "cell_type": "code",
   "execution_count": null,
   "metadata": {},
   "outputs": [],
   "source": [
    "def getMask(roi, fgbg):\n",
    "    fgmask=fgbg.apply(roi,learningRate=0)\n",
    "    kernel=np.ones((5,5),np.uint8)\n",
    "    morphopen=cv2.morphologyEx(fgmask,cv2.MORPH_OPEN,kernel)\n",
    "    morphclose=cv2.morphologyEx(morphopen,cv2.MORPH_CLOSE,kernel)\n",
    "    ret,thresh=cv2.threshold(morphclose,0,255,cv2.THRESH_BINARY+cv2.THRESH_OTSU)\n",
    "    return thresh\n",
    "\n",
    "def main():\n",
    "    cap=cv2.VideoCapture(0)\n",
    "    mfound=False\n",
    "    command = \"stationary1\"\n",
    "    gestures = [\"up\",\"right\",\"down\",\"select\",\"stationary1\",\"stationary2\"] # withdown.h5 deepernnwithoutleft.h5\n",
    "    marker  = [0,0]\n",
    "    selection = \"Password : \"\n",
    "    back_end = [[1,2,3],[4,5,6],[7,8,9],[\"Stop\",0,\"Back\"]]\n",
    "    templist=[0,0,0,0,0,0,0,0,0,0]\n",
    "    new_command='stationary1'\n",
    "\n",
    "    while True:\n",
    "        ret, frame = cap.read()\n",
    "        roi=frame[150:400,450:620]\n",
    "        cv2.rectangle(frame, (450,150), (620,400), (255,255,255))\n",
    "\n",
    "        if mfound:\n",
    "            mask=getMask(roi, fgbg)\n",
    "            mask = cv2.GaussianBlur(mask, (3,3), 20)\n",
    "            cv2.imshow(\"mask\", mask)\n",
    "            target = np.stack((mask,) * 3, axis=-1)\n",
    "            target = target.reshape(1, 250, 170, 3)\n",
    "            prediction=model.predict_classes(target)    \n",
    "            for p in range(1,len(templist)):\n",
    "                templist[p-1]=templist[p]\n",
    "                templist[len(templist)-1]=prediction[0]\n",
    "            if templist[0]==templist[1]==templist[2]==templist[3]==templist[4]==templist[5]==templist[6]==templist[7]==templist[8]==templist[9]:\n",
    "                 new_command = gestures[prediction[0]]\n",
    "\n",
    "            if command == new_command:\n",
    "                pass\n",
    "            else: \n",
    "                command = new_command\n",
    "                if command ==\"up\":\n",
    "                    press('up')\n",
    "                elif command ==\"down\":\n",
    "                    press('down')\n",
    "                elif command == \"right\":\n",
    "                    press('right')\n",
    "                elif command ==\"select\":\n",
    "                    press('enter')\n",
    "                elif command==\"left\":\n",
    "                    press('left')\n",
    "            cv2.putText(frame, command, (0,300), cv2.FONT_HERSHEY_COMPLEX, 1, (0,255,255), 2)\n",
    "        cv2.imshow(\"frame\", frame)\n",
    "\n",
    "        inp=cv2.waitKey(50)\n",
    "        if inp==27:\n",
    "            cap.release()\n",
    "            cv2.destroyAllWindows()\n",
    "            break\n",
    "        elif inp==ord('a'):\n",
    "            fgbg=cv2.createBackgroundSubtractorMOG2(0,50)\n",
    "            mfound=True\n",
    "            \n",
    "main()"
   ]
  }
 ],
 "metadata": {
  "kernelspec": {
   "display_name": "Python 3.7.7 64-bit ('tf-gpu': conda)",
   "language": "python",
   "name": "python37764bittfgpucondaceaab56c6b004c87aa049d65a6e79b4b"
  },
  "language_info": {
   "codemirror_mode": {
    "name": "ipython",
    "version": 3
   },
   "file_extension": ".py",
   "mimetype": "text/x-python",
   "name": "python",
   "nbconvert_exporter": "python",
   "pygments_lexer": "ipython3",
   "version": "3.7.7-final"
  }
 },
 "nbformat": 4,
 "nbformat_minor": 2
}
